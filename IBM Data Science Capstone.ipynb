{
    "cells": [
        {
            "cell_type": "markdown",
            "metadata": {},
            "source": "## WELCOME\n\nIn this notebook we are going to examine the accident severity dataset. The dataset has 1 label column and 37 feature columns."
        },
        {
            "cell_type": "code",
            "execution_count": 1,
            "metadata": {},
            "outputs": [],
            "source": "import pandas as pd\nimport numpy as np"
        },
        {
            "cell_type": "code",
            "execution_count": 2,
            "metadata": {},
            "outputs": [
                {
                    "name": "stdout",
                    "output_type": "stream",
                    "text": "Hello Capstone Project Course!\n"
                }
            ],
            "source": "print('Hello Capstone Project Course!')"
        },
        {
            "cell_type": "markdown",
            "metadata": {},
            "source": "# Problem"
        },
        {
            "cell_type": "markdown",
            "metadata": {},
            "source": "In this project I am going to try to find the most influential factor on a car accident severity level. By doing that we can take precautions and try to prevent possible accidents before it happened or lower the serenity level."
        },
        {
            "cell_type": "markdown",
            "metadata": {},
            "source": "# Data"
        },
        {
            "cell_type": "code",
            "execution_count": 3,
            "metadata": {},
            "outputs": [
                {
                    "data": {
                        "text/html": "<div>\n<style scoped>\n    .dataframe tbody tr th:only-of-type {\n        vertical-align: middle;\n    }\n\n    .dataframe tbody tr th {\n        vertical-align: top;\n    }\n\n    .dataframe thead th {\n        text-align: right;\n    }\n</style>\n<table border=\"1\" class=\"dataframe\">\n  <thead>\n    <tr style=\"text-align: right;\">\n      <th></th>\n      <th>SEVERITYCODE</th>\n      <th>X</th>\n      <th>Y</th>\n      <th>OBJECTID</th>\n      <th>INCKEY</th>\n      <th>COLDETKEY</th>\n      <th>REPORTNO</th>\n      <th>STATUS</th>\n      <th>ADDRTYPE</th>\n      <th>INTKEY</th>\n      <th>...</th>\n      <th>ROADCOND</th>\n      <th>LIGHTCOND</th>\n      <th>PEDROWNOTGRNT</th>\n      <th>SDOTCOLNUM</th>\n      <th>SPEEDING</th>\n      <th>ST_COLCODE</th>\n      <th>ST_COLDESC</th>\n      <th>SEGLANEKEY</th>\n      <th>CROSSWALKKEY</th>\n      <th>HITPARKEDCAR</th>\n    </tr>\n  </thead>\n  <tbody>\n    <tr>\n      <th>0</th>\n      <td>2</td>\n      <td>-122.323148</td>\n      <td>47.703140</td>\n      <td>1</td>\n      <td>1307</td>\n      <td>1307</td>\n      <td>3502005</td>\n      <td>Matched</td>\n      <td>Intersection</td>\n      <td>37475.0</td>\n      <td>...</td>\n      <td>Wet</td>\n      <td>Daylight</td>\n      <td>NaN</td>\n      <td>NaN</td>\n      <td>NaN</td>\n      <td>10</td>\n      <td>Entering at angle</td>\n      <td>0</td>\n      <td>0</td>\n      <td>N</td>\n    </tr>\n    <tr>\n      <th>1</th>\n      <td>1</td>\n      <td>-122.347294</td>\n      <td>47.647172</td>\n      <td>2</td>\n      <td>52200</td>\n      <td>52200</td>\n      <td>2607959</td>\n      <td>Matched</td>\n      <td>Block</td>\n      <td>NaN</td>\n      <td>...</td>\n      <td>Wet</td>\n      <td>Dark - Street Lights On</td>\n      <td>NaN</td>\n      <td>6354039.0</td>\n      <td>NaN</td>\n      <td>11</td>\n      <td>From same direction - both going straight - bo...</td>\n      <td>0</td>\n      <td>0</td>\n      <td>N</td>\n    </tr>\n    <tr>\n      <th>2</th>\n      <td>1</td>\n      <td>-122.334540</td>\n      <td>47.607871</td>\n      <td>3</td>\n      <td>26700</td>\n      <td>26700</td>\n      <td>1482393</td>\n      <td>Matched</td>\n      <td>Block</td>\n      <td>NaN</td>\n      <td>...</td>\n      <td>Dry</td>\n      <td>Daylight</td>\n      <td>NaN</td>\n      <td>4323031.0</td>\n      <td>NaN</td>\n      <td>32</td>\n      <td>One parked--one moving</td>\n      <td>0</td>\n      <td>0</td>\n      <td>N</td>\n    </tr>\n    <tr>\n      <th>3</th>\n      <td>1</td>\n      <td>-122.334803</td>\n      <td>47.604803</td>\n      <td>4</td>\n      <td>1144</td>\n      <td>1144</td>\n      <td>3503937</td>\n      <td>Matched</td>\n      <td>Block</td>\n      <td>NaN</td>\n      <td>...</td>\n      <td>Dry</td>\n      <td>Daylight</td>\n      <td>NaN</td>\n      <td>NaN</td>\n      <td>NaN</td>\n      <td>23</td>\n      <td>From same direction - all others</td>\n      <td>0</td>\n      <td>0</td>\n      <td>N</td>\n    </tr>\n    <tr>\n      <th>4</th>\n      <td>2</td>\n      <td>-122.306426</td>\n      <td>47.545739</td>\n      <td>5</td>\n      <td>17700</td>\n      <td>17700</td>\n      <td>1807429</td>\n      <td>Matched</td>\n      <td>Intersection</td>\n      <td>34387.0</td>\n      <td>...</td>\n      <td>Wet</td>\n      <td>Daylight</td>\n      <td>NaN</td>\n      <td>4028032.0</td>\n      <td>NaN</td>\n      <td>10</td>\n      <td>Entering at angle</td>\n      <td>0</td>\n      <td>0</td>\n      <td>N</td>\n    </tr>\n  </tbody>\n</table>\n<p>5 rows \u00d7 38 columns</p>\n</div>",
                        "text/plain": "   SEVERITYCODE           X          Y  OBJECTID  INCKEY  COLDETKEY REPORTNO  \\\n0             2 -122.323148  47.703140         1    1307       1307  3502005   \n1             1 -122.347294  47.647172         2   52200      52200  2607959   \n2             1 -122.334540  47.607871         3   26700      26700  1482393   \n3             1 -122.334803  47.604803         4    1144       1144  3503937   \n4             2 -122.306426  47.545739         5   17700      17700  1807429   \n\n    STATUS      ADDRTYPE   INTKEY  ... ROADCOND                LIGHTCOND  \\\n0  Matched  Intersection  37475.0  ...      Wet                 Daylight   \n1  Matched         Block      NaN  ...      Wet  Dark - Street Lights On   \n2  Matched         Block      NaN  ...      Dry                 Daylight   \n3  Matched         Block      NaN  ...      Dry                 Daylight   \n4  Matched  Intersection  34387.0  ...      Wet                 Daylight   \n\n  PEDROWNOTGRNT  SDOTCOLNUM SPEEDING ST_COLCODE  \\\n0           NaN         NaN      NaN         10   \n1           NaN   6354039.0      NaN         11   \n2           NaN   4323031.0      NaN         32   \n3           NaN         NaN      NaN         23   \n4           NaN   4028032.0      NaN         10   \n\n                                          ST_COLDESC  SEGLANEKEY  \\\n0                                  Entering at angle           0   \n1  From same direction - both going straight - bo...           0   \n2                             One parked--one moving           0   \n3                   From same direction - all others           0   \n4                                  Entering at angle           0   \n\n   CROSSWALKKEY  HITPARKEDCAR  \n0             0             N  \n1             0             N  \n2             0             N  \n3             0             N  \n4             0             N  \n\n[5 rows x 38 columns]"
                    },
                    "execution_count": 3,
                    "metadata": {},
                    "output_type": "execute_result"
                }
            ],
            "source": "# The code was removed by Watson Studio for sharing."
        },
        {
            "cell_type": "code",
            "execution_count": 4,
            "metadata": {},
            "outputs": [
                {
                    "data": {
                        "text/html": "<div>\n<style scoped>\n    .dataframe tbody tr th:only-of-type {\n        vertical-align: middle;\n    }\n\n    .dataframe tbody tr th {\n        vertical-align: top;\n    }\n\n    .dataframe thead th {\n        text-align: right;\n    }\n</style>\n<table border=\"1\" class=\"dataframe\">\n  <thead>\n    <tr style=\"text-align: right;\">\n      <th></th>\n      <th>SEVERITYCODE</th>\n      <th>X</th>\n      <th>Y</th>\n      <th>OBJECTID</th>\n      <th>INCKEY</th>\n      <th>COLDETKEY</th>\n      <th>REPORTNO</th>\n      <th>STATUS</th>\n      <th>ADDRTYPE</th>\n      <th>INTKEY</th>\n      <th>...</th>\n      <th>ROADCOND</th>\n      <th>LIGHTCOND</th>\n      <th>PEDROWNOTGRNT</th>\n      <th>SDOTCOLNUM</th>\n      <th>SPEEDING</th>\n      <th>ST_COLCODE</th>\n      <th>ST_COLDESC</th>\n      <th>SEGLANEKEY</th>\n      <th>CROSSWALKKEY</th>\n      <th>HITPARKEDCAR</th>\n    </tr>\n  </thead>\n  <tbody>\n    <tr>\n      <th>count</th>\n      <td>194673.000000</td>\n      <td>189339.000000</td>\n      <td>189339.000000</td>\n      <td>194673.000000</td>\n      <td>194673.000000</td>\n      <td>194673.000000</td>\n      <td>194673</td>\n      <td>194673</td>\n      <td>192747</td>\n      <td>65070.000000</td>\n      <td>...</td>\n      <td>189661</td>\n      <td>189503</td>\n      <td>4667</td>\n      <td>1.149360e+05</td>\n      <td>9333</td>\n      <td>194655</td>\n      <td>189769</td>\n      <td>194673.000000</td>\n      <td>1.946730e+05</td>\n      <td>194673</td>\n    </tr>\n    <tr>\n      <th>unique</th>\n      <td>NaN</td>\n      <td>NaN</td>\n      <td>NaN</td>\n      <td>NaN</td>\n      <td>NaN</td>\n      <td>NaN</td>\n      <td>194670</td>\n      <td>2</td>\n      <td>3</td>\n      <td>NaN</td>\n      <td>...</td>\n      <td>9</td>\n      <td>9</td>\n      <td>1</td>\n      <td>NaN</td>\n      <td>1</td>\n      <td>63</td>\n      <td>62</td>\n      <td>NaN</td>\n      <td>NaN</td>\n      <td>2</td>\n    </tr>\n    <tr>\n      <th>top</th>\n      <td>NaN</td>\n      <td>NaN</td>\n      <td>NaN</td>\n      <td>NaN</td>\n      <td>NaN</td>\n      <td>NaN</td>\n      <td>1776526</td>\n      <td>Matched</td>\n      <td>Block</td>\n      <td>NaN</td>\n      <td>...</td>\n      <td>Dry</td>\n      <td>Daylight</td>\n      <td>Y</td>\n      <td>NaN</td>\n      <td>Y</td>\n      <td>32</td>\n      <td>One parked--one moving</td>\n      <td>NaN</td>\n      <td>NaN</td>\n      <td>N</td>\n    </tr>\n    <tr>\n      <th>freq</th>\n      <td>NaN</td>\n      <td>NaN</td>\n      <td>NaN</td>\n      <td>NaN</td>\n      <td>NaN</td>\n      <td>NaN</td>\n      <td>2</td>\n      <td>189786</td>\n      <td>126926</td>\n      <td>NaN</td>\n      <td>...</td>\n      <td>124510</td>\n      <td>116137</td>\n      <td>4667</td>\n      <td>NaN</td>\n      <td>9333</td>\n      <td>44421</td>\n      <td>44421</td>\n      <td>NaN</td>\n      <td>NaN</td>\n      <td>187457</td>\n    </tr>\n    <tr>\n      <th>mean</th>\n      <td>1.298901</td>\n      <td>-122.330518</td>\n      <td>47.619543</td>\n      <td>108479.364930</td>\n      <td>141091.456350</td>\n      <td>141298.811381</td>\n      <td>NaN</td>\n      <td>NaN</td>\n      <td>NaN</td>\n      <td>37558.450576</td>\n      <td>...</td>\n      <td>NaN</td>\n      <td>NaN</td>\n      <td>NaN</td>\n      <td>7.972521e+06</td>\n      <td>NaN</td>\n      <td>NaN</td>\n      <td>NaN</td>\n      <td>269.401114</td>\n      <td>9.782452e+03</td>\n      <td>NaN</td>\n    </tr>\n    <tr>\n      <th>std</th>\n      <td>0.457778</td>\n      <td>0.029976</td>\n      <td>0.056157</td>\n      <td>62649.722558</td>\n      <td>86634.402737</td>\n      <td>86986.542110</td>\n      <td>NaN</td>\n      <td>NaN</td>\n      <td>NaN</td>\n      <td>51745.990273</td>\n      <td>...</td>\n      <td>NaN</td>\n      <td>NaN</td>\n      <td>NaN</td>\n      <td>2.553533e+06</td>\n      <td>NaN</td>\n      <td>NaN</td>\n      <td>NaN</td>\n      <td>3315.776055</td>\n      <td>7.226926e+04</td>\n      <td>NaN</td>\n    </tr>\n    <tr>\n      <th>min</th>\n      <td>1.000000</td>\n      <td>-122.419091</td>\n      <td>47.495573</td>\n      <td>1.000000</td>\n      <td>1001.000000</td>\n      <td>1001.000000</td>\n      <td>NaN</td>\n      <td>NaN</td>\n      <td>NaN</td>\n      <td>23807.000000</td>\n      <td>...</td>\n      <td>NaN</td>\n      <td>NaN</td>\n      <td>NaN</td>\n      <td>1.007024e+06</td>\n      <td>NaN</td>\n      <td>NaN</td>\n      <td>NaN</td>\n      <td>0.000000</td>\n      <td>0.000000e+00</td>\n      <td>NaN</td>\n    </tr>\n    <tr>\n      <th>25%</th>\n      <td>1.000000</td>\n      <td>-122.348673</td>\n      <td>47.575956</td>\n      <td>54267.000000</td>\n      <td>70383.000000</td>\n      <td>70383.000000</td>\n      <td>NaN</td>\n      <td>NaN</td>\n      <td>NaN</td>\n      <td>28667.000000</td>\n      <td>...</td>\n      <td>NaN</td>\n      <td>NaN</td>\n      <td>NaN</td>\n      <td>6.040015e+06</td>\n      <td>NaN</td>\n      <td>NaN</td>\n      <td>NaN</td>\n      <td>0.000000</td>\n      <td>0.000000e+00</td>\n      <td>NaN</td>\n    </tr>\n    <tr>\n      <th>50%</th>\n      <td>1.000000</td>\n      <td>-122.330224</td>\n      <td>47.615369</td>\n      <td>106912.000000</td>\n      <td>123363.000000</td>\n      <td>123363.000000</td>\n      <td>NaN</td>\n      <td>NaN</td>\n      <td>NaN</td>\n      <td>29973.000000</td>\n      <td>...</td>\n      <td>NaN</td>\n      <td>NaN</td>\n      <td>NaN</td>\n      <td>8.023022e+06</td>\n      <td>NaN</td>\n      <td>NaN</td>\n      <td>NaN</td>\n      <td>0.000000</td>\n      <td>0.000000e+00</td>\n      <td>NaN</td>\n    </tr>\n    <tr>\n      <th>75%</th>\n      <td>2.000000</td>\n      <td>-122.311937</td>\n      <td>47.663664</td>\n      <td>162272.000000</td>\n      <td>203319.000000</td>\n      <td>203459.000000</td>\n      <td>NaN</td>\n      <td>NaN</td>\n      <td>NaN</td>\n      <td>33973.000000</td>\n      <td>...</td>\n      <td>NaN</td>\n      <td>NaN</td>\n      <td>NaN</td>\n      <td>1.015501e+07</td>\n      <td>NaN</td>\n      <td>NaN</td>\n      <td>NaN</td>\n      <td>0.000000</td>\n      <td>0.000000e+00</td>\n      <td>NaN</td>\n    </tr>\n    <tr>\n      <th>max</th>\n      <td>2.000000</td>\n      <td>-122.238949</td>\n      <td>47.734142</td>\n      <td>219547.000000</td>\n      <td>331454.000000</td>\n      <td>332954.000000</td>\n      <td>NaN</td>\n      <td>NaN</td>\n      <td>NaN</td>\n      <td>757580.000000</td>\n      <td>...</td>\n      <td>NaN</td>\n      <td>NaN</td>\n      <td>NaN</td>\n      <td>1.307202e+07</td>\n      <td>NaN</td>\n      <td>NaN</td>\n      <td>NaN</td>\n      <td>525241.000000</td>\n      <td>5.239700e+06</td>\n      <td>NaN</td>\n    </tr>\n  </tbody>\n</table>\n<p>11 rows \u00d7 38 columns</p>\n</div>",
                        "text/plain": "         SEVERITYCODE              X              Y       OBJECTID  \\\ncount   194673.000000  189339.000000  189339.000000  194673.000000   \nunique            NaN            NaN            NaN            NaN   \ntop               NaN            NaN            NaN            NaN   \nfreq              NaN            NaN            NaN            NaN   \nmean         1.298901    -122.330518      47.619543  108479.364930   \nstd          0.457778       0.029976       0.056157   62649.722558   \nmin          1.000000    -122.419091      47.495573       1.000000   \n25%          1.000000    -122.348673      47.575956   54267.000000   \n50%          1.000000    -122.330224      47.615369  106912.000000   \n75%          2.000000    -122.311937      47.663664  162272.000000   \nmax          2.000000    -122.238949      47.734142  219547.000000   \n\n               INCKEY      COLDETKEY REPORTNO   STATUS ADDRTYPE  \\\ncount   194673.000000  194673.000000   194673   194673   192747   \nunique            NaN            NaN   194670        2        3   \ntop               NaN            NaN  1776526  Matched    Block   \nfreq              NaN            NaN        2   189786   126926   \nmean    141091.456350  141298.811381      NaN      NaN      NaN   \nstd      86634.402737   86986.542110      NaN      NaN      NaN   \nmin       1001.000000    1001.000000      NaN      NaN      NaN   \n25%      70383.000000   70383.000000      NaN      NaN      NaN   \n50%     123363.000000  123363.000000      NaN      NaN      NaN   \n75%     203319.000000  203459.000000      NaN      NaN      NaN   \nmax     331454.000000  332954.000000      NaN      NaN      NaN   \n\n               INTKEY  ... ROADCOND LIGHTCOND PEDROWNOTGRNT    SDOTCOLNUM  \\\ncount    65070.000000  ...   189661    189503          4667  1.149360e+05   \nunique            NaN  ...        9         9             1           NaN   \ntop               NaN  ...      Dry  Daylight             Y           NaN   \nfreq              NaN  ...   124510    116137          4667           NaN   \nmean     37558.450576  ...      NaN       NaN           NaN  7.972521e+06   \nstd      51745.990273  ...      NaN       NaN           NaN  2.553533e+06   \nmin      23807.000000  ...      NaN       NaN           NaN  1.007024e+06   \n25%      28667.000000  ...      NaN       NaN           NaN  6.040015e+06   \n50%      29973.000000  ...      NaN       NaN           NaN  8.023022e+06   \n75%      33973.000000  ...      NaN       NaN           NaN  1.015501e+07   \nmax     757580.000000  ...      NaN       NaN           NaN  1.307202e+07   \n\n       SPEEDING ST_COLCODE              ST_COLDESC     SEGLANEKEY  \\\ncount      9333     194655                  189769  194673.000000   \nunique        1         63                      62            NaN   \ntop           Y         32  One parked--one moving            NaN   \nfreq       9333      44421                   44421            NaN   \nmean        NaN        NaN                     NaN     269.401114   \nstd         NaN        NaN                     NaN    3315.776055   \nmin         NaN        NaN                     NaN       0.000000   \n25%         NaN        NaN                     NaN       0.000000   \n50%         NaN        NaN                     NaN       0.000000   \n75%         NaN        NaN                     NaN       0.000000   \nmax         NaN        NaN                     NaN  525241.000000   \n\n        CROSSWALKKEY  HITPARKEDCAR  \ncount   1.946730e+05        194673  \nunique           NaN             2  \ntop              NaN             N  \nfreq             NaN        187457  \nmean    9.782452e+03           NaN  \nstd     7.226926e+04           NaN  \nmin     0.000000e+00           NaN  \n25%     0.000000e+00           NaN  \n50%     0.000000e+00           NaN  \n75%     0.000000e+00           NaN  \nmax     5.239700e+06           NaN  \n\n[11 rows x 38 columns]"
                    },
                    "execution_count": 4,
                    "metadata": {},
                    "output_type": "execute_result"
                }
            ],
            "source": "df_data.describe(include='all')"
        },
        {
            "cell_type": "markdown",
            "metadata": {},
            "source": "# Preprocessing"
        },
        {
            "cell_type": "code",
            "execution_count": 5,
            "metadata": {},
            "outputs": [],
            "source": "y_true = df_data['SEVERITYCODE']"
        },
        {
            "cell_type": "code",
            "execution_count": 6,
            "metadata": {},
            "outputs": [
                {
                    "data": {
                        "text/plain": "Index(['SEVERITYCODE', 'X', 'Y', 'OBJECTID', 'INCKEY', 'COLDETKEY', 'REPORTNO',\n       'STATUS', 'ADDRTYPE', 'INTKEY', 'LOCATION', 'EXCEPTRSNCODE',\n       'EXCEPTRSNDESC', 'SEVERITYCODE.1', 'SEVERITYDESC', 'COLLISIONTYPE',\n       'PERSONCOUNT', 'PEDCOUNT', 'PEDCYLCOUNT', 'VEHCOUNT', 'INCDATE',\n       'INCDTTM', 'JUNCTIONTYPE', 'SDOT_COLCODE', 'SDOT_COLDESC',\n       'INATTENTIONIND', 'UNDERINFL', 'WEATHER', 'ROADCOND', 'LIGHTCOND',\n       'PEDROWNOTGRNT', 'SDOTCOLNUM', 'SPEEDING', 'ST_COLCODE', 'ST_COLDESC',\n       'SEGLANEKEY', 'CROSSWALKKEY', 'HITPARKEDCAR'],\n      dtype='object')"
                    },
                    "execution_count": 6,
                    "metadata": {},
                    "output_type": "execute_result"
                }
            ],
            "source": "df_data.columns"
        },
        {
            "cell_type": "code",
            "execution_count": 7,
            "metadata": {},
            "outputs": [],
            "source": "X = df_data[['STATUS', 'ADDRTYPE', 'INTKEY', 'SEVERITYDESC', 'COLLISIONTYPE',\n       'PERSONCOUNT', 'PEDCOUNT', 'PEDCYLCOUNT', 'VEHCOUNT', 'JUNCTIONTYPE', \n       'SDOT_COLCODE', 'UNDERINFL', 'WEATHER', 'ROADCOND', 'LIGHTCOND', 'ST_COLCODE',\n       'SEGLANEKEY', 'CROSSWALKKEY', 'HITPARKEDCAR']]"
        },
        {
            "cell_type": "markdown",
            "metadata": {},
            "source": "Here, I took the columns that are necessary to my opinion from the dataframe. For example, 'OBJECTID' column is unique for every row so we don't need that column."
        },
        {
            "cell_type": "code",
            "execution_count": 9,
            "metadata": {},
            "outputs": [
                {
                    "name": "stderr",
                    "output_type": "stream",
                    "text": "/opt/conda/envs/Python36/lib/python3.6/site-packages/pandas/core/indexing.py:543: SettingWithCopyWarning: \nA value is trying to be set on a copy of a slice from a DataFrame.\nTry using .loc[row_indexer,col_indexer] = value instead\n\nSee the caveats in the documentation: http://pandas.pydata.org/pandas-docs/stable/indexing.html#indexing-view-versus-copy\n  self.obj[item] = s\n"
                }
            ],
            "source": "X.loc[X['UNDERINFL'] == 'N', ['UNDERINFL']] = '0'"
        },
        {
            "cell_type": "code",
            "execution_count": 10,
            "metadata": {},
            "outputs": [],
            "source": "X.loc[X['UNDERINFL'] == 'Y', ['UNDERINFL']] = '1'"
        },
        {
            "cell_type": "markdown",
            "metadata": {},
            "source": "Here I have replaced values 'N' with '0' and 'Y' with '1'"
        },
        {
            "cell_type": "code",
            "execution_count": 12,
            "metadata": {},
            "outputs": [
                {
                    "data": {
                        "text/plain": "Index(['STATUS', 'ADDRTYPE', 'INTKEY', 'SEVERITYDESC', 'COLLISIONTYPE',\n       'PERSONCOUNT', 'PEDCOUNT', 'PEDCYLCOUNT', 'VEHCOUNT', 'JUNCTIONTYPE',\n       'SDOT_COLCODE', 'UNDERINFL', 'WEATHER', 'ROADCOND', 'LIGHTCOND',\n       'ST_COLCODE', 'SEGLANEKEY', 'CROSSWALKKEY', 'HITPARKEDCAR'],\n      dtype='object')"
                    },
                    "execution_count": 12,
                    "metadata": {},
                    "output_type": "execute_result"
                }
            ],
            "source": "X.columns"
        },
        {
            "cell_type": "code",
            "execution_count": 13,
            "metadata": {},
            "outputs": [],
            "source": "categorical_cols = ['STATUS', 'ADDRTYPE', 'SEVERITYDESC', 'COLLISIONTYPE', 'JUNCTIONTYPE', 'UNDERINFL', 'WEATHER', 'ROADCOND', 'LIGHTCOND', 'ST_COLCODE', 'HITPARKEDCAR']"
        },
        {
            "cell_type": "code",
            "execution_count": 14,
            "metadata": {},
            "outputs": [],
            "source": "numerical_col = ['INTKEY', 'PERSONCOUNT', 'PEDCOUNT', 'PEDCYLCOUNT', 'VEHCOUNT', 'SDOT_COLCODE', 'SEGLANEKEY', 'CROSSWALKKEY']"
        },
        {
            "cell_type": "code",
            "execution_count": 23,
            "metadata": {},
            "outputs": [
                {
                    "data": {
                        "text/html": "<div>\n<style scoped>\n    .dataframe tbody tr th:only-of-type {\n        vertical-align: middle;\n    }\n\n    .dataframe tbody tr th {\n        vertical-align: top;\n    }\n\n    .dataframe thead th {\n        text-align: right;\n    }\n</style>\n<table border=\"1\" class=\"dataframe\">\n  <thead>\n    <tr style=\"text-align: right;\">\n      <th></th>\n      <th>INTKEY</th>\n      <th>PERSONCOUNT</th>\n      <th>PEDCOUNT</th>\n      <th>PEDCYLCOUNT</th>\n      <th>VEHCOUNT</th>\n      <th>SDOT_COLCODE</th>\n      <th>SEGLANEKEY</th>\n      <th>CROSSWALKKEY</th>\n      <th>STATUS_Matched</th>\n      <th>STATUS_Unmatched</th>\n      <th>...</th>\n      <th>ST_COLCODE_8</th>\n      <th>ST_COLCODE_81</th>\n      <th>ST_COLCODE_82</th>\n      <th>ST_COLCODE_83</th>\n      <th>ST_COLCODE_84</th>\n      <th>ST_COLCODE_85</th>\n      <th>ST_COLCODE_87</th>\n      <th>ST_COLCODE_88</th>\n      <th>HITPARKEDCAR_N</th>\n      <th>HITPARKEDCAR_Y</th>\n    </tr>\n  </thead>\n  <tbody>\n    <tr>\n      <th>0</th>\n      <td>37475.0</td>\n      <td>2</td>\n      <td>0</td>\n      <td>0</td>\n      <td>2</td>\n      <td>11</td>\n      <td>0</td>\n      <td>0</td>\n      <td>1</td>\n      <td>0</td>\n      <td>...</td>\n      <td>0</td>\n      <td>0</td>\n      <td>0</td>\n      <td>0</td>\n      <td>0</td>\n      <td>0</td>\n      <td>0</td>\n      <td>0</td>\n      <td>1</td>\n      <td>0</td>\n    </tr>\n    <tr>\n      <th>1</th>\n      <td>NaN</td>\n      <td>2</td>\n      <td>0</td>\n      <td>0</td>\n      <td>2</td>\n      <td>16</td>\n      <td>0</td>\n      <td>0</td>\n      <td>1</td>\n      <td>0</td>\n      <td>...</td>\n      <td>0</td>\n      <td>0</td>\n      <td>0</td>\n      <td>0</td>\n      <td>0</td>\n      <td>0</td>\n      <td>0</td>\n      <td>0</td>\n      <td>1</td>\n      <td>0</td>\n    </tr>\n    <tr>\n      <th>2</th>\n      <td>NaN</td>\n      <td>4</td>\n      <td>0</td>\n      <td>0</td>\n      <td>3</td>\n      <td>14</td>\n      <td>0</td>\n      <td>0</td>\n      <td>1</td>\n      <td>0</td>\n      <td>...</td>\n      <td>0</td>\n      <td>0</td>\n      <td>0</td>\n      <td>0</td>\n      <td>0</td>\n      <td>0</td>\n      <td>0</td>\n      <td>0</td>\n      <td>1</td>\n      <td>0</td>\n    </tr>\n    <tr>\n      <th>3</th>\n      <td>NaN</td>\n      <td>3</td>\n      <td>0</td>\n      <td>0</td>\n      <td>3</td>\n      <td>11</td>\n      <td>0</td>\n      <td>0</td>\n      <td>1</td>\n      <td>0</td>\n      <td>...</td>\n      <td>0</td>\n      <td>0</td>\n      <td>0</td>\n      <td>0</td>\n      <td>0</td>\n      <td>0</td>\n      <td>0</td>\n      <td>0</td>\n      <td>1</td>\n      <td>0</td>\n    </tr>\n    <tr>\n      <th>4</th>\n      <td>34387.0</td>\n      <td>2</td>\n      <td>0</td>\n      <td>0</td>\n      <td>2</td>\n      <td>11</td>\n      <td>0</td>\n      <td>0</td>\n      <td>1</td>\n      <td>0</td>\n      <td>...</td>\n      <td>0</td>\n      <td>0</td>\n      <td>0</td>\n      <td>0</td>\n      <td>0</td>\n      <td>0</td>\n      <td>0</td>\n      <td>0</td>\n      <td>1</td>\n      <td>0</td>\n    </tr>\n  </tbody>\n</table>\n<p>5 rows \u00d7 128 columns</p>\n</div>",
                        "text/plain": "    INTKEY  PERSONCOUNT  PEDCOUNT  PEDCYLCOUNT  VEHCOUNT  SDOT_COLCODE  \\\n0  37475.0            2         0            0         2            11   \n1      NaN            2         0            0         2            16   \n2      NaN            4         0            0         3            14   \n3      NaN            3         0            0         3            11   \n4  34387.0            2         0            0         2            11   \n\n   SEGLANEKEY  CROSSWALKKEY  STATUS_Matched  STATUS_Unmatched  ...  \\\n0           0             0               1                 0  ...   \n1           0             0               1                 0  ...   \n2           0             0               1                 0  ...   \n3           0             0               1                 0  ...   \n4           0             0               1                 0  ...   \n\n   ST_COLCODE_8  ST_COLCODE_81  ST_COLCODE_82  ST_COLCODE_83  ST_COLCODE_84  \\\n0             0              0              0              0              0   \n1             0              0              0              0              0   \n2             0              0              0              0              0   \n3             0              0              0              0              0   \n4             0              0              0              0              0   \n\n   ST_COLCODE_85  ST_COLCODE_87  ST_COLCODE_88  HITPARKEDCAR_N  HITPARKEDCAR_Y  \n0              0              0              0               1               0  \n1              0              0              0               1               0  \n2              0              0              0               1               0  \n3              0              0              0               1               0  \n4              0              0              0               1               0  \n\n[5 rows x 128 columns]"
                    },
                    "execution_count": 23,
                    "metadata": {},
                    "output_type": "execute_result"
                }
            ],
            "source": "x_with_nan = pd.get_dummies(X, columns=categorical_cols, prefix=categorical_cols)\nx_with_nan.head()"
        },
        {
            "cell_type": "code",
            "execution_count": 19,
            "metadata": {},
            "outputs": [
                {
                    "name": "stdout",
                    "output_type": "stream",
                    "text": "Requirement already satisfied: impyute in /opt/conda/envs/Python36/lib/python3.6/site-packages (0.0.8)\r\nRequirement already satisfied: numpy in /opt/conda/envs/Python36/lib/python3.6/site-packages (from impyute) (1.15.4)\r\nRequirement already satisfied: scipy in /opt/conda/envs/Python36/lib/python3.6/site-packages (from impyute) (1.2.0)\r\nRequirement already satisfied: scikit-learn in /opt/conda/envs/Python36/lib/python3.6/site-packages (from impyute) (0.20.3)\r\n"
                }
            ],
            "source": "!pip install impyute\nfrom impyute.imputation.cs import mice"
        },
        {
            "cell_type": "code",
            "execution_count": 21,
            "metadata": {},
            "outputs": [
                {
                    "data": {
                        "text/plain": "array([[3.74750000e+04, 2.00000000e+00, 0.00000000e+00, ...,\n        0.00000000e+00, 1.00000000e+00, 0.00000000e+00],\n       [3.88774749e+04, 2.00000000e+00, 0.00000000e+00, ...,\n        0.00000000e+00, 1.00000000e+00, 0.00000000e+00],\n       [2.92920746e+04, 4.00000000e+00, 0.00000000e+00, ...,\n        0.00000000e+00, 1.00000000e+00, 0.00000000e+00],\n       ...,\n       [2.47600000e+04, 3.00000000e+00, 0.00000000e+00, ...,\n        0.00000000e+00, 1.00000000e+00, 0.00000000e+00],\n       [2.43490000e+04, 2.00000000e+00, 0.00000000e+00, ...,\n        0.00000000e+00, 1.00000000e+00, 0.00000000e+00],\n       [3.84329463e+04, 2.00000000e+00, 0.00000000e+00, ...,\n        0.00000000e+00, 1.00000000e+00, 0.00000000e+00]])"
                    },
                    "execution_count": 21,
                    "metadata": {},
                    "output_type": "execute_result"
                }
            ],
            "source": "x_imputed = mice(x_with_nan.values)\nx_imputed"
        },
        {
            "cell_type": "code",
            "execution_count": 24,
            "metadata": {},
            "outputs": [
                {
                    "data": {
                        "text/html": "<div>\n<style scoped>\n    .dataframe tbody tr th:only-of-type {\n        vertical-align: middle;\n    }\n\n    .dataframe tbody tr th {\n        vertical-align: top;\n    }\n\n    .dataframe thead th {\n        text-align: right;\n    }\n</style>\n<table border=\"1\" class=\"dataframe\">\n  <thead>\n    <tr style=\"text-align: right;\">\n      <th></th>\n      <th>INTKEY</th>\n      <th>PERSONCOUNT</th>\n      <th>PEDCOUNT</th>\n      <th>PEDCYLCOUNT</th>\n      <th>VEHCOUNT</th>\n      <th>SDOT_COLCODE</th>\n      <th>SEGLANEKEY</th>\n      <th>CROSSWALKKEY</th>\n      <th>STATUS_Matched</th>\n      <th>STATUS_Unmatched</th>\n      <th>...</th>\n      <th>ST_COLCODE_8</th>\n      <th>ST_COLCODE_81</th>\n      <th>ST_COLCODE_82</th>\n      <th>ST_COLCODE_83</th>\n      <th>ST_COLCODE_84</th>\n      <th>ST_COLCODE_85</th>\n      <th>ST_COLCODE_87</th>\n      <th>ST_COLCODE_88</th>\n      <th>HITPARKEDCAR_N</th>\n      <th>HITPARKEDCAR_Y</th>\n    </tr>\n  </thead>\n  <tbody>\n    <tr>\n      <th>0</th>\n      <td>37475.000000</td>\n      <td>2.0</td>\n      <td>0.0</td>\n      <td>0.0</td>\n      <td>2.0</td>\n      <td>11.0</td>\n      <td>0.0</td>\n      <td>0.0</td>\n      <td>1.0</td>\n      <td>0.0</td>\n      <td>...</td>\n      <td>0.0</td>\n      <td>0.0</td>\n      <td>0.0</td>\n      <td>0.0</td>\n      <td>0.0</td>\n      <td>0.0</td>\n      <td>0.0</td>\n      <td>0.0</td>\n      <td>1.0</td>\n      <td>0.0</td>\n    </tr>\n    <tr>\n      <th>1</th>\n      <td>38877.474935</td>\n      <td>2.0</td>\n      <td>0.0</td>\n      <td>0.0</td>\n      <td>2.0</td>\n      <td>16.0</td>\n      <td>0.0</td>\n      <td>0.0</td>\n      <td>1.0</td>\n      <td>0.0</td>\n      <td>...</td>\n      <td>0.0</td>\n      <td>0.0</td>\n      <td>0.0</td>\n      <td>0.0</td>\n      <td>0.0</td>\n      <td>0.0</td>\n      <td>0.0</td>\n      <td>0.0</td>\n      <td>1.0</td>\n      <td>0.0</td>\n    </tr>\n    <tr>\n      <th>2</th>\n      <td>29292.074647</td>\n      <td>4.0</td>\n      <td>0.0</td>\n      <td>0.0</td>\n      <td>3.0</td>\n      <td>14.0</td>\n      <td>0.0</td>\n      <td>0.0</td>\n      <td>1.0</td>\n      <td>0.0</td>\n      <td>...</td>\n      <td>0.0</td>\n      <td>0.0</td>\n      <td>0.0</td>\n      <td>0.0</td>\n      <td>0.0</td>\n      <td>0.0</td>\n      <td>0.0</td>\n      <td>0.0</td>\n      <td>1.0</td>\n      <td>0.0</td>\n    </tr>\n    <tr>\n      <th>3</th>\n      <td>32796.662010</td>\n      <td>3.0</td>\n      <td>0.0</td>\n      <td>0.0</td>\n      <td>3.0</td>\n      <td>11.0</td>\n      <td>0.0</td>\n      <td>0.0</td>\n      <td>1.0</td>\n      <td>0.0</td>\n      <td>...</td>\n      <td>0.0</td>\n      <td>0.0</td>\n      <td>0.0</td>\n      <td>0.0</td>\n      <td>0.0</td>\n      <td>0.0</td>\n      <td>0.0</td>\n      <td>0.0</td>\n      <td>1.0</td>\n      <td>0.0</td>\n    </tr>\n    <tr>\n      <th>4</th>\n      <td>34387.000000</td>\n      <td>2.0</td>\n      <td>0.0</td>\n      <td>0.0</td>\n      <td>2.0</td>\n      <td>11.0</td>\n      <td>0.0</td>\n      <td>0.0</td>\n      <td>1.0</td>\n      <td>0.0</td>\n      <td>...</td>\n      <td>0.0</td>\n      <td>0.0</td>\n      <td>0.0</td>\n      <td>0.0</td>\n      <td>0.0</td>\n      <td>0.0</td>\n      <td>0.0</td>\n      <td>0.0</td>\n      <td>1.0</td>\n      <td>0.0</td>\n    </tr>\n  </tbody>\n</table>\n<p>5 rows \u00d7 128 columns</p>\n</div>",
                        "text/plain": "         INTKEY  PERSONCOUNT  PEDCOUNT  PEDCYLCOUNT  VEHCOUNT  SDOT_COLCODE  \\\n0  37475.000000          2.0       0.0          0.0       2.0          11.0   \n1  38877.474935          2.0       0.0          0.0       2.0          16.0   \n2  29292.074647          4.0       0.0          0.0       3.0          14.0   \n3  32796.662010          3.0       0.0          0.0       3.0          11.0   \n4  34387.000000          2.0       0.0          0.0       2.0          11.0   \n\n   SEGLANEKEY  CROSSWALKKEY  STATUS_Matched  STATUS_Unmatched  ...  \\\n0         0.0           0.0             1.0               0.0  ...   \n1         0.0           0.0             1.0               0.0  ...   \n2         0.0           0.0             1.0               0.0  ...   \n3         0.0           0.0             1.0               0.0  ...   \n4         0.0           0.0             1.0               0.0  ...   \n\n   ST_COLCODE_8  ST_COLCODE_81  ST_COLCODE_82  ST_COLCODE_83  ST_COLCODE_84  \\\n0           0.0            0.0            0.0            0.0            0.0   \n1           0.0            0.0            0.0            0.0            0.0   \n2           0.0            0.0            0.0            0.0            0.0   \n3           0.0            0.0            0.0            0.0            0.0   \n4           0.0            0.0            0.0            0.0            0.0   \n\n   ST_COLCODE_85  ST_COLCODE_87  ST_COLCODE_88  HITPARKEDCAR_N  HITPARKEDCAR_Y  \n0            0.0            0.0            0.0             1.0             0.0  \n1            0.0            0.0            0.0             1.0             0.0  \n2            0.0            0.0            0.0             1.0             0.0  \n3            0.0            0.0            0.0             1.0             0.0  \n4            0.0            0.0            0.0             1.0             0.0  \n\n[5 rows x 128 columns]"
                    },
                    "execution_count": 24,
                    "metadata": {},
                    "output_type": "execute_result"
                }
            ],
            "source": "x = pd.DataFrame(data=x_imputed, columns=x_with_nan.columns)\nx.head()"
        },
        {
            "cell_type": "markdown",
            "metadata": {},
            "source": "Here, I used Multivariate Imputation by Chained Equations for missing values. The MICE algorithm can impute mixes of continuous, binary, unordered categorical and ordered categorical data."
        },
        {
            "cell_type": "markdown",
            "metadata": {},
            "source": "# Training and Feature Selection"
        },
        {
            "cell_type": "code",
            "execution_count": 32,
            "metadata": {},
            "outputs": [
                {
                    "name": "stderr",
                    "output_type": "stream",
                    "text": "/opt/conda/envs/Python36/lib/python3.6/site-packages/sklearn/linear_model/logistic.py:433: FutureWarning: Default solver will be changed to 'lbfgs' in 0.22. Specify a solver to silence this warning.\n  FutureWarning)\n"
                },
                {
                    "name": "stdout",
                    "output_type": "stream",
                    "text": "11 selected features\n"
                }
            ],
            "source": "from sklearn.feature_selection import SelectFromModel\nfrom sklearn.linear_model import LogisticRegression\n\nembeded_lr_selector = SelectFromModel(LogisticRegression(penalty=\"l1\"), max_features=len(x.columns))\nembeded_lr_selector.fit(X_norm, y_true)\n\nembeded_lr_support = embeded_lr_selector.get_support()\nembeded_lr_feature = x.loc[:,embeded_lr_support].columns.tolist()\nprint(str(len(embeded_lr_feature)), 'selected features')"
        },
        {
            "cell_type": "code",
            "execution_count": 33,
            "metadata": {},
            "outputs": [
                {
                    "name": "stdout",
                    "output_type": "stream",
                    "text": "7 selected features\n"
                }
            ],
            "source": "from sklearn.feature_selection import SelectFromModel\nfrom sklearn.ensemble import RandomForestClassifier\n\nembeded_rf_selector = SelectFromModel(RandomForestClassifier(n_estimators=100), max_features=len(x.columns))\nembeded_rf_selector.fit(x, y_true)\n\nembeded_rf_support = embeded_rf_selector.get_support()\nembeded_rf_feature = x.loc[:,embeded_rf_support].columns.tolist()\nprint(str(len(embeded_rf_feature)), 'selected features')"
        },
        {
            "cell_type": "code",
            "execution_count": 45,
            "metadata": {},
            "outputs": [],
            "source": "# put all selection together\nfeature_selection_df = pd.DataFrame({'Feature':x.columns.tolist(), 'Logistics':embeded_lr_support,\n                                    'Random Forest':embeded_rf_support})\n# count the selected times for each feature\nfeature_selection_df['Total'] = np.sum(feature_selection_df, axis=1)\nfeature_selection_df = feature_selection_df.sort_values(['Total','Feature'] , ascending=False)\nfeature_selection_df.index = range(1, len(feature_selection_df)+1)"
        },
        {
            "cell_type": "markdown",
            "metadata": {},
            "source": "Here, I used scikit-learn's SelectFromModel to measure feature importance of the model using Logistic Regression and Random Forest. SelectFromModel is a meta-transformer that can be used along with any estimator that has a coef_ or feature_importances_ attribute after fitting."
        },
        {
            "cell_type": "markdown",
            "metadata": {},
            "source": "# Result"
        },
        {
            "cell_type": "code",
            "execution_count": 46,
            "metadata": {},
            "outputs": [
                {
                    "data": {
                        "text/html": "<div>\n<style scoped>\n    .dataframe tbody tr th:only-of-type {\n        vertical-align: middle;\n    }\n\n    .dataframe tbody tr th {\n        vertical-align: top;\n    }\n\n    .dataframe thead th {\n        text-align: right;\n    }\n</style>\n<table border=\"1\" class=\"dataframe\">\n  <thead>\n    <tr style=\"text-align: right;\">\n      <th></th>\n      <th>Feature</th>\n      <th>Logistics</th>\n      <th>Random Forest</th>\n      <th>Total</th>\n    </tr>\n  </thead>\n  <tbody>\n    <tr>\n      <th>1</th>\n      <td>ST_COLCODE_32</td>\n      <td>True</td>\n      <td>True</td>\n      <td>2</td>\n    </tr>\n    <tr>\n      <th>2</th>\n      <td>SEVERITYDESC_Property Damage Only Collision</td>\n      <td>True</td>\n      <td>True</td>\n      <td>2</td>\n    </tr>\n    <tr>\n      <th>3</th>\n      <td>SEVERITYDESC_Injury Collision</td>\n      <td>True</td>\n      <td>True</td>\n      <td>2</td>\n    </tr>\n    <tr>\n      <th>4</th>\n      <td>COLLISIONTYPE_Parked Car</td>\n      <td>True</td>\n      <td>True</td>\n      <td>2</td>\n    </tr>\n    <tr>\n      <th>5</th>\n      <td>WEATHER_Clear</td>\n      <td>True</td>\n      <td>False</td>\n      <td>1</td>\n    </tr>\n    <tr>\n      <th>6</th>\n      <td>UNDERINFL_0</td>\n      <td>True</td>\n      <td>False</td>\n      <td>1</td>\n    </tr>\n    <tr>\n      <th>7</th>\n      <td>STATUS_Matched</td>\n      <td>True</td>\n      <td>False</td>\n      <td>1</td>\n    </tr>\n    <tr>\n      <th>8</th>\n      <td>ROADCOND_Dry</td>\n      <td>True</td>\n      <td>False</td>\n      <td>1</td>\n    </tr>\n    <tr>\n      <th>9</th>\n      <td>PEDCOUNT</td>\n      <td>False</td>\n      <td>True</td>\n      <td>1</td>\n    </tr>\n    <tr>\n      <th>10</th>\n      <td>LIGHTCOND_Daylight</td>\n      <td>True</td>\n      <td>False</td>\n      <td>1</td>\n    </tr>\n    <tr>\n      <th>11</th>\n      <td>LIGHTCOND_Dark - Street Lights On</td>\n      <td>True</td>\n      <td>False</td>\n      <td>1</td>\n    </tr>\n    <tr>\n      <th>12</th>\n      <td>INTKEY</td>\n      <td>False</td>\n      <td>True</td>\n      <td>1</td>\n    </tr>\n    <tr>\n      <th>13</th>\n      <td>COLLISIONTYPE_Pedestrian</td>\n      <td>False</td>\n      <td>True</td>\n      <td>1</td>\n    </tr>\n    <tr>\n      <th>14</th>\n      <td>ADDRTYPE_Block</td>\n      <td>True</td>\n      <td>False</td>\n      <td>1</td>\n    </tr>\n    <tr>\n      <th>15</th>\n      <td>WEATHER_Unknown</td>\n      <td>False</td>\n      <td>False</td>\n      <td>0</td>\n    </tr>\n    <tr>\n      <th>16</th>\n      <td>WEATHER_Snowing</td>\n      <td>False</td>\n      <td>False</td>\n      <td>0</td>\n    </tr>\n    <tr>\n      <th>17</th>\n      <td>WEATHER_Sleet/Hail/Freezing Rain</td>\n      <td>False</td>\n      <td>False</td>\n      <td>0</td>\n    </tr>\n    <tr>\n      <th>18</th>\n      <td>WEATHER_Severe Crosswind</td>\n      <td>False</td>\n      <td>False</td>\n      <td>0</td>\n    </tr>\n    <tr>\n      <th>19</th>\n      <td>WEATHER_Raining</td>\n      <td>False</td>\n      <td>False</td>\n      <td>0</td>\n    </tr>\n    <tr>\n      <th>20</th>\n      <td>WEATHER_Partly Cloudy</td>\n      <td>False</td>\n      <td>False</td>\n      <td>0</td>\n    </tr>\n  </tbody>\n</table>\n</div>",
                        "text/plain": "                                        Feature  Logistics  Random Forest  \\\n1                                 ST_COLCODE_32       True           True   \n2   SEVERITYDESC_Property Damage Only Collision       True           True   \n3                 SEVERITYDESC_Injury Collision       True           True   \n4                      COLLISIONTYPE_Parked Car       True           True   \n5                                 WEATHER_Clear       True          False   \n6                                   UNDERINFL_0       True          False   \n7                                STATUS_Matched       True          False   \n8                                  ROADCOND_Dry       True          False   \n9                                      PEDCOUNT      False           True   \n10                           LIGHTCOND_Daylight       True          False   \n11            LIGHTCOND_Dark - Street Lights On       True          False   \n12                                       INTKEY      False           True   \n13                     COLLISIONTYPE_Pedestrian      False           True   \n14                               ADDRTYPE_Block       True          False   \n15                              WEATHER_Unknown      False          False   \n16                              WEATHER_Snowing      False          False   \n17             WEATHER_Sleet/Hail/Freezing Rain      False          False   \n18                     WEATHER_Severe Crosswind      False          False   \n19                              WEATHER_Raining      False          False   \n20                        WEATHER_Partly Cloudy      False          False   \n\n    Total  \n1       2  \n2       2  \n3       2  \n4       2  \n5       1  \n6       1  \n7       1  \n8       1  \n9       1  \n10      1  \n11      1  \n12      1  \n13      1  \n14      1  \n15      0  \n16      0  \n17      0  \n18      0  \n19      0  \n20      0  "
                    },
                    "execution_count": 46,
                    "metadata": {},
                    "output_type": "execute_result"
                }
            ],
            "source": "feature_selection_df.head(20)"
        },
        {
            "cell_type": "markdown",
            "metadata": {},
            "source": "Based on the feature selection process, feature columns named 'ST_COLCODE_32', 'SEVERITYDESC_Property Damage Only Collision', 'SEVERITYDESC_Injury Collision', 'COLLISIONTYPE_Parked Car' are the ones that influenced the target variable. "
        },
        {
            "cell_type": "markdown",
            "metadata": {},
            "source": "ST_COLCODE is a code provided by the state that describes the collision and 32 means 'One Parked - One Moving'. I did not include any validation for this but I assume the rows that has the value of 1 for this column has severity code 1 which means property damage only collision. The accidents that has one parked one moving probably won't have much injuries."
        },
        {
            "cell_type": "markdown",
            "metadata": {},
            "source": "SEVERITYDESC_Property Damage Only Collision and SEVERITYDESC_Injury Collision shouldn't have been included to the dataset in the first place because SEVERITYDESC is the description of the SEVERITYCODE and matches in every row."
        },
        {
            "cell_type": "code",
            "execution_count": null,
            "metadata": {},
            "outputs": [],
            "source": "I think COLLISIONTYPE_Parked Car can be interpreted the same as ST_COLCODE"
        }
    ],
    "metadata": {
        "kernelspec": {
            "display_name": "Python 3.6",
            "language": "python",
            "name": "python3"
        },
        "language_info": {
            "codemirror_mode": {
                "name": "ipython",
                "version": 3
            },
            "file_extension": ".py",
            "mimetype": "text/x-python",
            "name": "python",
            "nbconvert_exporter": "python",
            "pygments_lexer": "ipython3",
            "version": "3.6.9"
        }
    },
    "nbformat": 4,
    "nbformat_minor": 1
}